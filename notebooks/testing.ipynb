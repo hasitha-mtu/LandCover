{
 "cells": [
  {
   "cell_type": "code",
   "execution_count": 87,
   "id": "7dffcbc3-c93c-495e-a139-1f486d3dbc85",
   "metadata": {},
   "outputs": [],
   "source": [
    "# Import Python 3's print function and division\n",
    "from __future__ import print_function, division\n",
    "\n",
    "# Import GDAL, NumPy, and matplotlib\n",
    "from osgeo import gdal, gdal_array\n",
    "import numpy as np\n",
    "import matplotlib.pyplot as plt\n",
    "%matplotlib inline\n",
    "\n",
    "# Tell GDAL to throw Python exceptions, and register all drivers\n",
    "gdal.UseExceptions()\n",
    "gdal.AllRegister()"
   ]
  },
  {
   "cell_type": "code",
   "execution_count": 89,
   "id": "e78b6789-0400-4675-8a4b-d61e37454521",
   "metadata": {},
   "outputs": [],
   "source": [
    "# Read in our image and ROI image\n",
    "img_ds = gdal.Open('data/example/LE70220491999322EDC01_stack.gtif', gdal.GA_ReadOnly)\n",
    "roi_ds = gdal.Open('data/example/training_data.gtif', gdal.GA_ReadOnly)"
   ]
  },
  {
   "cell_type": "code",
   "execution_count": 11,
   "id": "1d811fad-90ae-4858-9a73-43c5168b396a",
   "metadata": {},
   "outputs": [
    {
     "data": {
      "text/plain": [
       "250"
      ]
     },
     "execution_count": 11,
     "metadata": {},
     "output_type": "execute_result"
    }
   ],
   "source": [
    "img_ds.RasterYSize"
   ]
  },
  {
   "cell_type": "code",
   "execution_count": 13,
   "id": "202de4c0-d69d-428e-bc99-f6e89026879f",
   "metadata": {},
   "outputs": [
    {
     "data": {
      "text/plain": [
       "250"
      ]
     },
     "execution_count": 13,
     "metadata": {},
     "output_type": "execute_result"
    }
   ],
   "source": [
    "img_ds.RasterXSize"
   ]
  },
  {
   "cell_type": "code",
   "execution_count": 15,
   "id": "89e760a8-891f-4b71-83ec-f467ef026ea7",
   "metadata": {},
   "outputs": [
    {
     "data": {
      "text/plain": [
       "8"
      ]
     },
     "execution_count": 15,
     "metadata": {},
     "output_type": "execute_result"
    }
   ],
   "source": [
    "img_ds.RasterCount"
   ]
  },
  {
   "cell_type": "code",
   "execution_count": 21,
   "id": "f0b76e03-dd1b-4f45-9d71-aee028520a84",
   "metadata": {},
   "outputs": [
    {
     "data": {
      "text/plain": [
       "numpy.int16"
      ]
     },
     "execution_count": 21,
     "metadata": {},
     "output_type": "execute_result"
    }
   ],
   "source": [
    "gdal_array.GDALTypeCodeToNumericTypeCode(img_ds.GetRasterBand(1).DataType)"
   ]
  },
  {
   "cell_type": "code",
   "execution_count": 7,
   "id": "ce0c2fe4-07e3-48e4-b2cb-459c4cf222d0",
   "metadata": {},
   "outputs": [
    {
     "data": {
      "text/plain": [
       "(250, 250, 8)"
      ]
     },
     "execution_count": 7,
     "metadata": {},
     "output_type": "execute_result"
    }
   ],
   "source": [
    "img = np.zeros((img_ds.RasterYSize, img_ds.RasterXSize, img_ds.RasterCount),\n",
    "               gdal_array.GDALTypeCodeToNumericTypeCode(img_ds.GetRasterBand(1).DataType))\n",
    "img.shape"
   ]
  },
  {
   "cell_type": "code",
   "execution_count": 9,
   "id": "283dbce9-ce55-41ef-9cd7-10a1601846c0",
   "metadata": {},
   "outputs": [],
   "source": [
    "for b in range(img.shape[2]):\n",
    "    img[:, :, b] = img_ds.GetRasterBand(b + 1).ReadAsArray()"
   ]
  },
  {
   "cell_type": "code",
   "execution_count": 25,
   "id": "3c47cfbe-2dd6-4cb8-af74-a9a559dd6047",
   "metadata": {},
   "outputs": [
    {
     "data": {
      "text/plain": [
       "array([[[ 569,  886,  758, ...,  988, 2686,    0],\n",
       "        [ 526,  886,  758, ...,  988, 2686,    0],\n",
       "        [ 569,  798,  776, ...,  961, 2686,    0],\n",
       "        ...,\n",
       "        [ 311,  452,  356, ...,  780, 2487,    0],\n",
       "        [ 289,  452,  297, ...,  647, 2487,    0],\n",
       "        [ 311,  430,  337, ...,  674, 2436,    0]],\n",
       "\n",
       "       [[ 568,  886,  815, ..., 1014, 2686,    0],\n",
       "        [ 589,  929,  853, ..., 1014, 2686,    0],\n",
       "        [ 568,  907,  910, ..., 1014, 2686,    0],\n",
       "        ...,\n",
       "        [ 267,  430,  318, ...,  674, 2487,    0],\n",
       "        [ 332,  452,  337, ...,  594, 2487,    0],\n",
       "        [ 332,  452,  395, ...,  727, 2487,    0]],\n",
       "\n",
       "       [[ 546,  864,  834, ...,  988, 2637,    0],\n",
       "        [ 525,  886,  834, ...,  988, 2637,    0],\n",
       "        [ 589,  928,  891, ...,  988, 2637,    0],\n",
       "        ...,\n",
       "        [ 311,  452,  356, ...,  727, 2487,    0],\n",
       "        [ 311,  475,  395, ...,  727, 2487,    0],\n",
       "        [ 311,  475,  356, ...,  753, 2487,    0]],\n",
       "\n",
       "       ...,\n",
       "\n",
       "       [[ 499,  851,  766, ..., 1124, 2785,    0],\n",
       "        [ 543,  829,  747, ..., 1387, 2735,    0],\n",
       "        [ 478,  829,  766, ..., 1414, 2735,    0],\n",
       "        ...,\n",
       "        [ 306,  473,  336, ...,  753, 2537,    0],\n",
       "        [ 349,  494,  375, ...,  753, 2537,    0],\n",
       "        [ 372,  584,  454, ...,  780, 2587,    0]],\n",
       "\n",
       "       [[ 520,  829,  766, ..., 1283, 2785,    0],\n",
       "        [ 520,  829,  786, ..., 1387, 2785,    0],\n",
       "        [ 543,  829,  805, ..., 1361, 2785,    0],\n",
       "        ...,\n",
       "        [ 328,  473,  336, ...,  568, 2587,    0],\n",
       "        [ 372,  628,  433, ..., 1045, 2587,    0],\n",
       "        [ 393,  628,  512, ..., 1018, 2587,    0]],\n",
       "\n",
       "       [[ 543,  829,  825, ..., 1440, 2785,    0],\n",
       "        [ 564,  851,  863, ..., 1467, 2785,    0],\n",
       "        [ 543,  829,  766, ..., 1387, 2785,    0],\n",
       "        ...,\n",
       "        [ 393,  607,  551, ..., 1230, 2686,    0],\n",
       "        [ 414,  673,  572, ..., 1440, 2686,    0],\n",
       "        [ 436,  628,  493, ..., 1045, 2637,    0]]], dtype=int16)"
      ]
     },
     "execution_count": 25,
     "metadata": {},
     "output_type": "execute_result"
    }
   ],
   "source": [
    "img"
   ]
  },
  {
   "cell_type": "code",
   "execution_count": 23,
   "id": "0878a077-e101-48ef-99a8-f40429354e27",
   "metadata": {},
   "outputs": [
    {
     "data": {
      "text/plain": [
       "(250, 250, 8)"
      ]
     },
     "execution_count": 23,
     "metadata": {},
     "output_type": "execute_result"
    }
   ],
   "source": [
    "img.shape"
   ]
  },
  {
   "cell_type": "code",
   "execution_count": 35,
   "id": "da76ac47-b8e5-45a1-8920-3a353c17d372",
   "metadata": {},
   "outputs": [
    {
     "data": {
      "text/plain": [
       "250"
      ]
     },
     "execution_count": 35,
     "metadata": {},
     "output_type": "execute_result"
    }
   ],
   "source": [
    "roi_ds.RasterYSize"
   ]
  },
  {
   "cell_type": "code",
   "execution_count": 37,
   "id": "e967a71c-2887-464c-a0c0-79a62a0b9e1a",
   "metadata": {},
   "outputs": [
    {
     "data": {
      "text/plain": [
       "250"
      ]
     },
     "execution_count": 37,
     "metadata": {},
     "output_type": "execute_result"
    }
   ],
   "source": [
    "roi_ds.RasterXSize"
   ]
  },
  {
   "cell_type": "code",
   "execution_count": 39,
   "id": "dd4f05d8-c124-4bd4-8f67-49abe9c75c85",
   "metadata": {},
   "outputs": [
    {
     "data": {
      "text/plain": [
       "1"
      ]
     },
     "execution_count": 39,
     "metadata": {},
     "output_type": "execute_result"
    }
   ],
   "source": [
    "roi_ds.RasterCount"
   ]
  },
  {
   "cell_type": "code",
   "execution_count": 91,
   "id": "c03dd82e-97c0-4aeb-9ab0-187e495f7afc",
   "metadata": {},
   "outputs": [
    {
     "data": {
      "text/plain": [
       "array([[0, 0, 0, ..., 0, 0, 0],\n",
       "       [0, 0, 0, ..., 0, 0, 0],\n",
       "       [0, 0, 0, ..., 0, 0, 0],\n",
       "       ...,\n",
       "       [0, 0, 0, ..., 0, 0, 0],\n",
       "       [0, 0, 0, ..., 0, 0, 0],\n",
       "       [0, 0, 0, ..., 0, 0, 0]], dtype=uint8)"
      ]
     },
     "execution_count": 91,
     "metadata": {},
     "output_type": "execute_result"
    }
   ],
   "source": [
    "roi = roi_ds.GetRasterBand(1).ReadAsArray().astype(np.uint8)\n",
    "roi"
   ]
  },
  {
   "cell_type": "code",
   "execution_count": 43,
   "id": "ac3accb7-2923-4d0a-b93b-3a081c54318e",
   "metadata": {},
   "outputs": [
    {
     "data": {
      "text/plain": [
       "array([[2234, 2160, 2085, ..., 1766, 1564, 1590],\n",
       "       [2184, 2184, 2234, ..., 1564, 1489, 1665],\n",
       "       [2161, 2210, 2260, ..., 1691, 1766, 1817],\n",
       "       ...,\n",
       "       [2546, 2773, 2873, ..., 1791, 1817, 1918],\n",
       "       [2722, 2823, 2748, ..., 1438, 2219, 2345],\n",
       "       [2823, 2873, 2773, ..., 2294, 2597, 2294]], dtype=int16)"
      ]
     },
     "execution_count": 43,
     "metadata": {},
     "output_type": "execute_result"
    }
   ],
   "source": [
    "img[:, :, 4]"
   ]
  },
  {
   "cell_type": "code",
   "execution_count": 45,
   "id": "db90f724-535b-4f57-bf88-39a6e9dfb87b",
   "metadata": {},
   "outputs": [
    {
     "data": {
      "text/plain": [
       "(250, 250)"
      ]
     },
     "execution_count": 45,
     "metadata": {},
     "output_type": "execute_result"
    }
   ],
   "source": [
    "img[:, :, 4].shape"
   ]
  },
  {
   "cell_type": "code",
   "execution_count": 41,
   "id": "4f5c2d15-c5d0-422d-9f1f-f402fc038f67",
   "metadata": {},
   "outputs": [
    {
     "data": {
      "image/png": "[encoded data removed]",
      "text/plain": [
       "<Figure size 640x480 with 2 Axes>"
      ]
     },
     "metadata": {},
     "output_type": "display_data"
    }
   ],
   "source": [
    "# Display them\n",
    "plt.subplot(121)\n",
    "plt.imshow(img[:, :, 4], cmap=plt.cm.Greys_r)\n",
    "plt.title('SWIR1')\n",
    "\n",
    "plt.subplot(122)\n",
    "plt.imshow(roi, cmap=plt.cm.Spectral)\n",
    "plt.title('ROI Training Data')\n",
    "\n",
    "plt.show()"
   ]
  },
  {
   "cell_type": "code",
   "execution_count": 47,
   "id": "46f25245-81c8-4e1e-aaee-a7d28572561d",
   "metadata": {},
   "outputs": [
    {
     "name": "stdout",
     "output_type": "stream",
     "text": [
      "We have 718 samples\n"
     ]
    }
   ],
   "source": [
    "# Find how many non-zero entries we have -- i.e. how many training data samples?\n",
    "n_samples = (roi > 0).sum()\n",
    "print('We have {n} samples'.format(n=n_samples))"
   ]
  },
  {
   "cell_type": "code",
   "execution_count": 49,
   "id": "395f6368-c199-48e4-b87a-d1fac56104a0",
   "metadata": {},
   "outputs": [
    {
     "name": "stdout",
     "output_type": "stream",
     "text": [
      "The training data include 5 classes: [1 2 3 4 5]\n"
     ]
    }
   ],
   "source": [
    "# What are our classification labels?\n",
    "labels = np.unique(roi[roi > 0])\n",
    "print('The training data include {n} classes: {classes}'.format(n=labels.size, classes=labels))"
   ]
  },
  {
   "cell_type": "code",
   "execution_count": 51,
   "id": "21e5debf-766f-4d49-8f4c-8776b3435a51",
   "metadata": {},
   "outputs": [
    {
     "name": "stdout",
     "output_type": "stream",
     "text": [
      "Our X matrix is sized: (718, 8)\n",
      "Our y array is sized: (718,)\n"
     ]
    }
   ],
   "source": [
    "# We will need a \"X\" matrix containing our features, and a \"y\" array containing our labels\n",
    "#     These will have n_samples rows\n",
    "#     In other languages we would need to allocate these and them loop to fill them, but NumPy can be faster\n",
    "\n",
    "X = img[roi > 0, :]  # include 8th band, which is Fmask, for now\n",
    "y = roi[roi > 0]\n",
    "\n",
    "print('Our X matrix is sized: {sz}'.format(sz=X.shape))\n",
    "print('Our y array is sized: {sz}'.format(sz=y.shape))"
   ]
  },
  {
   "cell_type": "code",
   "execution_count": 57,
   "id": "df76f2b4-372c-4069-ba0f-d3372f5372f0",
   "metadata": {},
   "outputs": [],
   "source": [
    "X = X[clear, :7]  # we can ditch the Fmask band now\n",
    "y = y[clear]"
   ]
  },
  {
   "cell_type": "code",
   "execution_count": 59,
   "id": "8cb71dab-524e-4321-821e-975c36ed4e0f",
   "metadata": {},
   "outputs": [
    {
     "data": {
      "text/plain": [
       "(718, 7)"
      ]
     },
     "execution_count": 59,
     "metadata": {},
     "output_type": "execute_result"
    }
   ],
   "source": [
    "X.shape"
   ]
  },
  {
   "cell_type": "code",
   "execution_count": 61,
   "id": "cc2fca78-1c3f-430d-b57b-1f9455c36290",
   "metadata": {},
   "outputs": [
    {
     "data": {
      "text/plain": [
       "(718,)"
      ]
     },
     "execution_count": 61,
     "metadata": {},
     "output_type": "execute_result"
    }
   ],
   "source": [
    "y.shape"
   ]
  },
  {
   "cell_type": "code",
   "execution_count": 63,
   "id": "318cf461-ce79-4f6b-bf43-23c84926aa86",
   "metadata": {},
   "outputs": [
    {
     "name": "stdout",
     "output_type": "stream",
     "text": [
      "After masking, our X matrix is sized: (718, 7)\n",
      "After masking, our y array is sized: (718,)\n"
     ]
    }
   ],
   "source": [
    "print('After masking, our X matrix is sized: {sz}'.format(sz=X.shape))\n",
    "print('After masking, our y array is sized: {sz}'.format(sz=y.shape))"
   ]
  },
  {
   "cell_type": "code",
   "execution_count": 65,
   "id": "23bd28c5-0268-429b-92b6-1498fc934e65",
   "metadata": {},
   "outputs": [],
   "source": [
    "from sklearn.ensemble import RandomForestClassifier\n",
    "\n",
    "# Initialize our model with 500 trees\n",
    "rf = RandomForestClassifier(n_estimators=500, oob_score=True)\n",
    "\n",
    "# Fit our model to training data\n",
    "rf = rf.fit(X, y)"
   ]
  },
  {
   "cell_type": "code",
   "execution_count": 67,
   "id": "9405ccc9-0f06-4875-9c91-b10a279369f7",
   "metadata": {},
   "outputs": [
    {
     "name": "stdout",
     "output_type": "stream",
     "text": [
      "Our OOB prediction of accuracy is: 98.32869080779945%\n"
     ]
    }
   ],
   "source": [
    "print('Our OOB prediction of accuracy is: {oob}%'.format(oob=rf.oob_score_ * 100))"
   ]
  },
  {
   "cell_type": "code",
   "execution_count": 69,
   "id": "ba14b5fb-6aae-4de3-ad9f-5a20421c95ea",
   "metadata": {},
   "outputs": [
    {
     "name": "stdout",
     "output_type": "stream",
     "text": [
      "Band 1 importance: 0.13030789282305655\n",
      "Band 2 importance: 0.20079870746967288\n",
      "Band 3 importance: 0.1132042579505258\n",
      "Band 4 importance: 0.09526715677607496\n",
      "Band 5 importance: 0.2005528933484553\n",
      "Band 7 importance: 0.17854687617322124\n",
      "Band 6 importance: 0.08132221545899333\n"
     ]
    }
   ],
   "source": [
    "bands = [1, 2, 3, 4, 5, 7, 6]\n",
    "\n",
    "for b, imp in zip(bands, rf.feature_importances_):\n",
    "    print('Band {b} importance: {imp}'.format(b=b, imp=imp))"
   ]
  },
  {
   "cell_type": "code",
   "execution_count": 71,
   "id": "7737062d-21c3-4b16-8f48-4eedbf9e2546",
   "metadata": {},
   "outputs": [
    {
     "name": "stdout",
     "output_type": "stream",
     "text": [
      "predict    1   2    3    4   5  All\n",
      "truth                              \n",
      "1        383   0    0    0   0  383\n",
      "2          0  16    0    0   0   16\n",
      "3          0   0  145    0   0  145\n",
      "4          0   0    0  106   0  106\n",
      "5          0   0    0    0  68   68\n",
      "All      383  16  145  106  68  718\n"
     ]
    }
   ],
   "source": [
    "import pandas as pd\n",
    "\n",
    "# Setup a dataframe -- just like R\n",
    "df = pd.DataFrame()\n",
    "df['truth'] = y\n",
    "df['predict'] = rf.predict(X)\n",
    "\n",
    "# Cross-tabulate predictions\n",
    "print(pd.crosstab(df['truth'], df['predict'], margins=True))"
   ]
  },
  {
   "cell_type": "code",
   "execution_count": 79,
   "id": "ff6b8bb9-1467-4306-9d8f-c370ac97c56a",
   "metadata": {},
   "outputs": [],
   "source": [
    "import geopandas as gpd"
   ]
  },
  {
   "cell_type": "code",
   "execution_count": 81,
   "id": "5d3e3894-6186-4f4d-917b-4bfbcd5cb463",
   "metadata": {},
   "outputs": [],
   "source": [
    "shape_file = \"../data/land_cover/cop/CLC18_IE/CLC18_IE.shp\""
   ]
  },
  {
   "cell_type": "code",
   "execution_count": 85,
   "id": "5a20af69-24e0-43d4-8cfc-b64de6f60177",
   "metadata": {},
   "outputs": [
    {
     "data": {
      "text/html": [
       "<div>\n",
       "<style scoped>\n",
       "    .dataframe tbody tr th:only-of-type {\n",
       "        vertical-align: middle;\n",
       "    }\n",
       "\n",
       "    .dataframe tbody tr th {\n",
       "        vertical-align: top;\n",
       "    }\n",
       "\n",
       "    .dataframe thead th {\n",
       "        text-align: right;\n",
       "    }\n",
       "</style>\n",
       "<table border=\"1\" class=\"dataframe\">\n",
       "  <thead>\n",
       "    <tr style=\"text-align: right;\">\n",
       "      <th></th>\n",
       "      <th>OBJECTID</th>\n",
       "      <th>ID</th>\n",
       "      <th>CODE_18</th>\n",
       "      <th>Class_Desc</th>\n",
       "      <th>Area_Ha</th>\n",
       "      <th>Shape_STAr</th>\n",
       "      <th>Shape_STLe</th>\n",
       "      <th>geometry</th>\n",
       "    </tr>\n",
       "  </thead>\n",
       "  <tbody>\n",
       "    <tr>\n",
       "      <th>0</th>\n",
       "      <td>1</td>\n",
       "      <td>IE_1</td>\n",
       "      <td>111</td>\n",
       "      <td>Continuous urban fabric</td>\n",
       "      <td>3.593744e+01</td>\n",
       "      <td>3.595292e+05</td>\n",
       "      <td>3.399929e+03</td>\n",
       "      <td>POLYGON ((149105.431 55190.742, 149111.973 551...</td>\n",
       "    </tr>\n",
       "    <tr>\n",
       "      <th>1</th>\n",
       "      <td>2</td>\n",
       "      <td>IE_2</td>\n",
       "      <td>111</td>\n",
       "      <td>Continuous urban fabric</td>\n",
       "      <td>1.785159e+02</td>\n",
       "      <td>1.785928e+06</td>\n",
       "      <td>9.115961e+03</td>\n",
       "      <td>POLYGON ((167787.511 72255.465, 167802.928 722...</td>\n",
       "    </tr>\n",
       "    <tr>\n",
       "      <th>2</th>\n",
       "      <td>3</td>\n",
       "      <td>IE_3</td>\n",
       "      <td>111</td>\n",
       "      <td>Continuous urban fabric</td>\n",
       "      <td>2.767229e+01</td>\n",
       "      <td>2.768421e+05</td>\n",
       "      <td>3.185437e+03</td>\n",
       "      <td>POLYGON ((210988.216 77233.553, 210981.346 772...</td>\n",
       "    </tr>\n",
       "    <tr>\n",
       "      <th>3</th>\n",
       "      <td>4</td>\n",
       "      <td>IE_4</td>\n",
       "      <td>111</td>\n",
       "      <td>Continuous urban fabric</td>\n",
       "      <td>4.389431e+01</td>\n",
       "      <td>4.391323e+05</td>\n",
       "      <td>3.740968e+03</td>\n",
       "      <td>POLYGON ((96773.475 91139.256, 96755.145 91047...</td>\n",
       "    </tr>\n",
       "    <tr>\n",
       "      <th>4</th>\n",
       "      <td>5</td>\n",
       "      <td>IE_5</td>\n",
       "      <td>111</td>\n",
       "      <td>Continuous urban fabric</td>\n",
       "      <td>5.020679e+01</td>\n",
       "      <td>5.022843e+05</td>\n",
       "      <td>3.335530e+03</td>\n",
       "      <td>POLYGON ((155736.979 98850.382, 155742.712 988...</td>\n",
       "    </tr>\n",
       "    <tr>\n",
       "      <th>...</th>\n",
       "      <td>...</td>\n",
       "      <td>...</td>\n",
       "      <td>...</td>\n",
       "      <td>...</td>\n",
       "      <td>...</td>\n",
       "      <td>...</td>\n",
       "      <td>...</td>\n",
       "      <td>...</td>\n",
       "    </tr>\n",
       "    <tr>\n",
       "      <th>18877</th>\n",
       "      <td>18878</td>\n",
       "      <td>IE_18878</td>\n",
       "      <td>522</td>\n",
       "      <td>Estuaries</td>\n",
       "      <td>5.021254e+01</td>\n",
       "      <td>5.023418e+05</td>\n",
       "      <td>5.987252e+03</td>\n",
       "      <td>POLYGON ((179990.737 427199.806, 180063.404 42...</td>\n",
       "    </tr>\n",
       "    <tr>\n",
       "      <th>18878</th>\n",
       "      <td>18879</td>\n",
       "      <td>IE_18879</td>\n",
       "      <td>522</td>\n",
       "      <td>Estuaries</td>\n",
       "      <td>1.747832e+02</td>\n",
       "      <td>1.748585e+06</td>\n",
       "      <td>1.643064e+04</td>\n",
       "      <td>POLYGON ((209180.776 434018.782, 209185.396 43...</td>\n",
       "    </tr>\n",
       "    <tr>\n",
       "      <th>18879</th>\n",
       "      <td>18880</td>\n",
       "      <td>IE_18880</td>\n",
       "      <td>522</td>\n",
       "      <td>Estuaries</td>\n",
       "      <td>8.743091e+01</td>\n",
       "      <td>8.746859e+05</td>\n",
       "      <td>9.344419e+03</td>\n",
       "      <td>POLYGON ((192146.995 434024.284, 192149.205 43...</td>\n",
       "    </tr>\n",
       "    <tr>\n",
       "      <th>18880</th>\n",
       "      <td>18881</td>\n",
       "      <td>IE_18881</td>\n",
       "      <td>522</td>\n",
       "      <td>Estuaries</td>\n",
       "      <td>2.865799e+02</td>\n",
       "      <td>2.867034e+06</td>\n",
       "      <td>1.934943e+04</td>\n",
       "      <td>POLYGON ((242831.332 451792.090, 242834.979 45...</td>\n",
       "    </tr>\n",
       "    <tr>\n",
       "      <th>18881</th>\n",
       "      <td>18882</td>\n",
       "      <td>IE_18882</td>\n",
       "      <td>523</td>\n",
       "      <td>Sea and ocean</td>\n",
       "      <td>4.054028e+06</td>\n",
       "      <td>4.056181e+10</td>\n",
       "      <td>6.511000e+06</td>\n",
       "      <td>POLYGON ((272434.931 470343.510, 269430.895 46...</td>\n",
       "    </tr>\n",
       "  </tbody>\n",
       "</table>\n",
       "<p>18882 rows × 8 columns</p>\n",
       "</div>"
      ],
      "text/plain": [
       "       OBJECTID        ID CODE_18               Class_Desc       Area_Ha  \\\n",
       "0             1      IE_1     111  Continuous urban fabric  3.593744e+01   \n",
       "1             2      IE_2     111  Continuous urban fabric  1.785159e+02   \n",
       "2             3      IE_3     111  Continuous urban fabric  2.767229e+01   \n",
       "3             4      IE_4     111  Continuous urban fabric  4.389431e+01   \n",
       "4             5      IE_5     111  Continuous urban fabric  5.020679e+01   \n",
       "...         ...       ...     ...                      ...           ...   \n",
       "18877     18878  IE_18878     522                Estuaries  5.021254e+01   \n",
       "18878     18879  IE_18879     522                Estuaries  1.747832e+02   \n",
       "18879     18880  IE_18880     522                Estuaries  8.743091e+01   \n",
       "18880     18881  IE_18881     522                Estuaries  2.865799e+02   \n",
       "18881     18882  IE_18882     523            Sea and ocean  4.054028e+06   \n",
       "\n",
       "         Shape_STAr    Shape_STLe  \\\n",
       "0      3.595292e+05  3.399929e+03   \n",
       "1      1.785928e+06  9.115961e+03   \n",
       "2      2.768421e+05  3.185437e+03   \n",
       "3      4.391323e+05  3.740968e+03   \n",
       "4      5.022843e+05  3.335530e+03   \n",
       "...             ...           ...   \n",
       "18877  5.023418e+05  5.987252e+03   \n",
       "18878  1.748585e+06  1.643064e+04   \n",
       "18879  8.746859e+05  9.344419e+03   \n",
       "18880  2.867034e+06  1.934943e+04   \n",
       "18881  4.056181e+10  6.511000e+06   \n",
       "\n",
       "                                                geometry  \n",
       "0      POLYGON ((149105.431 55190.742, 149111.973 551...  \n",
       "1      POLYGON ((167787.511 72255.465, 167802.928 722...  \n",
       "2      POLYGON ((210988.216 77233.553, 210981.346 772...  \n",
       "3      POLYGON ((96773.475 91139.256, 96755.145 91047...  \n",
       "4      POLYGON ((155736.979 98850.382, 155742.712 988...  \n",
       "...                                                  ...  \n",
       "18877  POLYGON ((179990.737 427199.806, 180063.404 42...  \n",
       "18878  POLYGON ((209180.776 434018.782, 209185.396 43...  \n",
       "18879  POLYGON ((192146.995 434024.284, 192149.205 43...  \n",
       "18880  POLYGON ((242831.332 451792.090, 242834.979 45...  \n",
       "18881  POLYGON ((272434.931 470343.510, 269430.895 46...  \n",
       "\n",
       "[18882 rows x 8 columns]"
      ]
     },
     "execution_count": 85,
     "metadata": {},
     "output_type": "execute_result"
    }
   ],
   "source": [
    "gdf = gpd.read_file(shape_file)\n",
    "gdf"
   ]
  },
  {
   "cell_type": "code",
   "execution_count": null,
   "id": "004100a0-e673-45c6-b84f-6466cfb91926",
   "metadata": {},
   "outputs": [],
   "source": []
  }
 ],
 "metadata": {
  "kernelspec": {
   "display_name": "Python 3 (ipykernel)",
   "language": "python",
   "name": "python3"
  },
  "language_info": {
   "codemirror_mode": {
    "name": "ipython",
    "version": 3
   },
   "file_extension": ".py",
   "mimetype": "text/x-python",
   "name": "python",
   "nbconvert_exporter": "python",
   "pygments_lexer": "ipython3",
   "version": "3.12.4"
  }
 },
 "nbformat": 4,
 "nbformat_minor": 5
}
