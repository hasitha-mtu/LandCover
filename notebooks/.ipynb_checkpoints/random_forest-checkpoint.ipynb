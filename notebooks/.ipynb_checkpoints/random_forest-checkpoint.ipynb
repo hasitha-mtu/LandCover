{
 "cells": [
  {
   "cell_type": "code",
   "execution_count": 5,
   "id": "02899e82-1cbc-4161-b13c-64fbced70cb3",
   "metadata": {},
   "outputs": [],
   "source": [
    "import rasterio\n",
    "import pandas as pd\n",
    "from pyproj import Transformer\n",
    "import glob"
   ]
  },
  {
   "cell_type": "code",
   "execution_count": 17,
   "id": "b1a96c66-5dae-47ce-96eb-3d385c6bb827",
   "metadata": {},
   "outputs": [],
   "source": [
    "import os\n",
    "cwd = os.getcwd()\n"
   ]
  },
  {
   "cell_type": "code",
   "execution_count": 15,
   "id": "5e3be23d-77d3-4383-8be2-2c6e291fa4bb",
   "metadata": {},
   "outputs": [
    {
     "data": {
      "text/plain": [
       "[]"
      ]
     },
     "execution_count": 15,
     "metadata": {},
     "output_type": "execute_result"
    }
   ],
   "source": [
    "input_files = glob.glob(\"data/landcover/*.tff\")\n",
    "input_files"
   ]
  },
  {
   "cell_type": "code",
   "execution_count": null,
   "id": "f53ee2c0-c615-4a65-869e-07f03f749fd9",
   "metadata": {},
   "outputs": [],
   "source": [
    "def get_data_frame(file_paths, latlon_crs = 'epsg:4326'):\n",
    "    for file_path in file_paths:\n",
    "        with rasterio.open(file_path) as f:\n",
    "            zz = f.read(1)\n",
    "            x = np.linspace(f.bounds.left, f.bounds.right, f.shape[1])\n",
    "            y = np.linspace(f.bounds.bottom, f.bounds.top, f.shape[0])\n",
    "        xx, yy = np.meshgrid(x, y)\n",
    "        df = pd.DataFrame({\n",
    "            'x': xx.flatten(),\n",
    "            'y': yy.flatten(),\n",
    "            'value': zz.flatten(),\n",
    "        })\n",
    "        transformer = Transformer.from_crs(f.crs, latlon_crs, always_xy=False)\n",
    "        df['lat'], df['lon'] = transformer.transform(xx=df.x, yy=df.y)\n",
    "        df.drop(columns=['x', 'y'], inplace=True)\n",
    "        print(df.head())"
   ]
  }
 ],
 "metadata": {
  "kernelspec": {
   "display_name": "Python 3 (ipykernel)",
   "language": "python",
   "name": "python3"
  },
  "language_info": {
   "codemirror_mode": {
    "name": "ipython",
    "version": 3
   },
   "file_extension": ".py",
   "mimetype": "text/x-python",
   "name": "python",
   "nbconvert_exporter": "python",
   "pygments_lexer": "ipython3",
   "version": "3.12.4"
  }
 },
 "nbformat": 4,
 "nbformat_minor": 5
}
